{
 "cells": [
  {
   "cell_type": "code",
   "execution_count": 10,
   "metadata": {
    "collapsed": true
   },
   "outputs": [],
   "source": [
    "import numpy as np\n",
    "from scipy.interpolate import UnivariateSpline\n",
    "import pylab as pl\n",
    "\n",
    "max_speeds = np.load('./data/max-speeds.npy')\n",
    "years_nb = max_speeds.shape[0]\n",
    "cprob = (np.arange(years_nb, dtype=np.float32) + 1)/(years_nb + 1)\n",
    "sorted_max_speeds = np.sort(max_speeds)\n",
    "speed_spline = UnivariateSpline(cprob, sorted_max_speeds)\n",
    "nprob = np.linspace(0, 1, 1e2)\n",
    "fitted_max_speeds = speed_spline(nprob)\n",
    "fifty_prob = 1. - 0.02\n",
    "fifty_wind = speed_spline(fifty_prob)\n",
    "pl.figure()\n",
    "pl.plot(sorted_max_speeds, cprob, 'o')\n",
    "pl.plot(fitted_max_speeds, nprob, 'g--')\n",
    "pl.plot([fifty_wind], [fifty_prob], 'o', ms=8., mfc='y', mec='y')\n",
    "pl.text(30, 0.05, '$V_{50} = %.2f \\, m/s$' % fifty_wind)\n",
    "pl.plot([fifty_wind, fifty_wind], [pl.axis()[2], fifty_prob], 'k--')\n",
    "pl.xlabel('Annual wind speed maxima [$m/s$]')\n",
    "pl.ylabel('Cumulative probability')\n",
    "pl.show()"
   ]
  },
  {
   "cell_type": "code",
   "execution_count": 3,
   "metadata": {
    "collapsed": false
   },
   "outputs": [],
   "source": [
    "import numpy as np\n",
    "from scipy.interpolate import UnivariateSpline\n",
    "import pylab as pl\n",
    "\n",
    "def gumbell_dist(arr):\n",
    "    return -np.log(-np.log(arr))\n",
    "\n",
    "years_nb = 21\n",
    "wspeeds = np.load('sprog-windspeeds.npy')\n",
    "max_speeds = np.array([arr.max() for arr in np.array_split(wspeeds, years_nb)])\n",
    "sorted_max_speeds = np.sort(max_speeds)\n",
    "cprob = (np.arange(years_nb, dtype=np.float32) + 1)/(years_nb + 1)\n",
    "gprob = gumbell_dist(cprob)\n",
    "speed_spline = UnivariateSpline(gprob, sorted_max_speeds, k=1)\n",
    "nprob = gumbell_dist(np.linspace(1e-3, 1-1e-3, 1e2))\n",
    "fitted_max_speeds = speed_spline(nprob)\n",
    "fifty_prob = gumbell_dist(49./50.)\n",
    "fifty_wind = speed_spline(fifty_prob)\n",
    "\n",
    "pl.figure()\n",
    "pl.bar(np.arange(years_nb) + 1, max_speeds)\n",
    "pl.axis('tight')\n",
    "pl.xlabel('Year')\n",
    "pl.ylabel('Annual wind speed maxima [$m/s$]')\n",
    "#pl.show()\n",
    "\n",
    "pl.figure()\n",
    "pl.plot(sorted_max_speeds, gprob, 'o')\n",
    "pl.plot(fitted_max_speeds, nprob, 'g--')\n",
    "pl.plot([fifty_wind], [fifty_prob], 'o', ms=8., mfc='y', mec='y')\n",
    "pl.plot([fifty_wind, fifty_wind], [pl.axis()[2], fifty_prob], 'k--')\n",
    "pl.text(35, -1, r'$V_{50} = %.2f \\, m/s$' % fifty_wind)\n",
    "pl.xlabel('Annual wind speed maxima [$m/s$]')\n",
    "pl.ylabel('Gumbell cumulative probability')\n",
    "pl.show()"
   ]
  }
 ],
 "metadata": {
  "kernelspec": {
   "display_name": "Python 2",
   "language": "python",
   "name": "python2"
  },
  "language_info": {
   "codemirror_mode": {
    "name": "ipython",
    "version": 2
   },
   "file_extension": ".py",
   "mimetype": "text/x-python",
   "name": "python",
   "nbconvert_exporter": "python",
   "pygments_lexer": "ipython2",
   "version": "2.7.9"
  }
 },
 "nbformat": 4,
 "nbformat_minor": 0
}

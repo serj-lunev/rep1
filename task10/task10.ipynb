{
 "cells": [
  {
   "cell_type": "code",
   "execution_count": 12,
   "metadata": {
    "collapsed": false
   },
   "outputs": [
    {
     "name": "stdout",
     "output_type": "stream",
     "text": [
      "Optimization terminated successfully.\n",
      "         Current function value: 0.319276\n",
      "         Iterations 8\n"
     ]
    },
    {
     "data": {
      "image/png": "[encoded data removed]",
      "text/plain": [
       "<matplotlib.figure.Figure at 0x193aa668>"
      ]
     },
     "metadata": {},
     "output_type": "display_data"
    }
   ],
   "source": [
    "import pandas as pd\n",
    "import numpy as np\n",
    "import statsmodels.api as sm\n",
    "import pylab as pl\n",
    "%matplotlib inline\n",
    "\n",
    "def pz(fico,amt,coeff):\n",
    "    z = coeff[0]*fico + coeff[1]*amt + coeff[2]\n",
    "    return 1/(1+np.exp(-z))\n",
    "\n",
    "loan = pd.read_csv('loansData.csv')\n",
    "loan = loan.dropna(how = 'any')\n",
    "loan = loan[['Interest.Rate', 'FICO.Range', 'Loan.Length', 'Monthly.Income', 'Amount.Requested']]\n",
    "f = loan['Interest.Rate']\n",
    "f = [float(a[:-1]) for a in f]\n",
    "loan['Interest.Rate'] = f\n",
    "loan['TF'] = loan['Interest.Rate']<=12\n",
    "f = loan['FICO.Range']\n",
    "f = [int(a[:3]) + 2 for a in f]\n",
    "loan['FICO.Score'] = f\n",
    "loan['intercept'] = 1.0\n",
    "ind_cols=['FICO.Score','Amount.Requested','intercept']\n",
    "logit = sm.Logit(loan['TF'], loan[ind_cols])\n",
    "result = logit.fit()\n",
    "coeff = result.params\n",
    "xlist = range(0, 60000, 10)\n",
    "ylist = [pz(820, x, coeff) for x in xlist]\n",
    "pl.plot(xlist, ylist)\n",
    "pl.show()"
   ]
  },
  {
   "cell_type": "code",
   "execution_count": 13,
   "metadata": {
    "collapsed": false
   },
   "outputs": [
    {
     "data": {
      "image/png": "[encoded data removed]",
      "text/plain": [
       "<matplotlib.figure.Figure at 0x1b795358>"
      ]
     },
     "metadata": {},
     "output_type": "display_data"
    }
   ],
   "source": [
    "xlist = range(0, 60000, 10)\n",
    "ylist = [pz(720, x, coeff) for x in xlist]\n",
    "pl.plot(xlist, ylist)\n",
    "pl.show()"
   ]
  },
  {
   "cell_type": "code",
   "execution_count": null,
   "metadata": {
    "collapsed": true
   },
   "outputs": [],
   "source": []
  }
 ],
 "metadata": {
  "kernelspec": {
   "display_name": "Python 2",
   "language": "python",
   "name": "python2"
  },
  "language_info": {
   "codemirror_mode": {
    "name": "ipython",
    "version": 2
   },
   "file_extension": ".py",
   "mimetype": "text/x-python",
   "name": "python",
   "nbconvert_exporter": "python",
   "pygments_lexer": "ipython2",
   "version": "2.7.9"
  }
 },
 "nbformat": 4,
 "nbformat_minor": 0
}

{
 "cells": [
  {
   "cell_type": "code",
   "execution_count": 12,
   "metadata": {
    "collapsed": false
   },
   "outputs": [],
   "source": [
    "import pandas as pd\n",
    "import numpy as np\n",
    "import statsmodels.api as sm\n",
    "import pylab as pl\n",
    "trData = pd.read_csv('train_model_data.csv')\n",
    "valData = pd.read_csv('validation_model_data.csv')"
   ]
  },
  {
   "cell_type": "code",
   "execution_count": 26,
   "metadata": {
    "collapsed": false
   },
   "outputs": [
    {
     "name": "stdout",
     "output_type": "stream",
     "text": [
      "Coefficients:  [ 87.60741738   0.60301986  -0.78007568]\n",
      "Intercept:  -0.780075684554\n",
      "P-Values:  [  1.89907538e-97   2.46614872e-08   4.35771567e-07]\n",
      "R-Squared:  0.00285426434199\n"
     ]
    }
   ],
   "source": [
    "valData = valData[['key', 'plays', 'pctmale', 'age', 'account_age', 'cluster']]\n",
    "valData = valData.dropna(how = 'any')\n",
    "cluster = valData['cluster']\n",
    "plays = valData['plays']\n",
    "age = valData['age']\n",
    "pctmale = valData['pctmale']\n",
    "acc_age = valData['account_age']\n",
    "\n",
    "y = np.matrix(plays).transpose()\n",
    "x1 = np.matrix(cluster).transpose()\n",
    "x2 = np.matrix(age).transpose()\n",
    "x3 = np.matrix(pctmale).transpose()\n",
    "x4 = np.matrix(acc_age).transpose()\n",
    "x = np.column_stack([x1, x2])\n",
    "X = sm.add_constant(x)\n",
    "model = sm.OLS(y, X)\n",
    "f = model.fit()\n",
    "\n",
    "print 'Coefficients: ', f.params[0:4]\n",
    "print 'Intercept: ', f.params[2]\n",
    "print 'P-Values: ', f.pvalues\n",
    "print 'R-Squared: ', f.rsquared"
   ]
  },
  {
   "cell_type": "code",
   "execution_count": 30,
   "metadata": {
    "collapsed": false
   },
   "outputs": [
    {
     "name": "stdout",
     "output_type": "stream",
     "text": [
      "Coefficients:  [ 138.03153725    1.25778168   -1.96734259]\n",
      "Intercept:  -1.96734259321\n",
      "P-Values:  [  0.00000000e+00   2.03454890e-60   6.55581369e-83]\n",
      "R-Squared:  0.00713450787654\n"
     ]
    }
   ],
   "source": [
    "trData = trData[['key', 'plays', 'pctmale', 'age', 'account_age', 'cluster']]\n",
    "trData = trData.dropna(how = 'any')\n",
    "cluster = trData['cluster']\n",
    "plays = trData['plays']\n",
    "age = trData['age']\n",
    "pctmale = trData['pctmale']\n",
    "acc_age = trData['account_age']\n",
    "\n",
    "y = np.matrix(plays).transpose()\n",
    "x1 = np.matrix(cluster).transpose()\n",
    "x2 = np.matrix(age).transpose()\n",
    "x3 = np.matrix(pctmale).transpose()\n",
    "x4 = np.matrix(acc_age).transpose()\n",
    "x = np.column_stack([x1, x2])\n",
    "X = sm.add_constant(x)\n",
    "model = sm.OLS(y, X)\n",
    "f = model.fit()\n",
    "\n",
    "print 'Coefficients: ', f.params[0:4]\n",
    "print 'Intercept: ', f.params[2]\n",
    "print 'P-Values: ', f.pvalues\n",
    "print 'R-Squared: ', f.rsquared"
   ]
  },
  {
   "cell_type": "code",
   "execution_count": 31,
   "metadata": {
    "collapsed": false
   },
   "outputs": [
    {
     "name": "stdout",
     "output_type": "stream",
     "text": [
      "Coefficients:  [ 4.49012604  0.00623934 -0.0134391 ]\n",
      "Intercept:  -0.0134391023508\n",
      "P-Values:  [  0.00000000e+000   2.86841299e-056   2.20582995e-144]\n",
      "R-Squared:  0.00998495161633\n"
     ]
    }
   ],
   "source": [
    "trData = trData[['key', 'plays', 'pctmale', 'age', 'account_age', 'cluster']]\n",
    "trData = trData.dropna(how = 'any')\n",
    "cluster = trData['cluster']\n",
    "plays = trData['plays']\n",
    "age = trData['age']\n",
    "pctmale = trData['pctmale']\n",
    "acc_age = trData['account_age']\n",
    "\n",
    "y = np.matrix(plays).transpose()\n",
    "x1 = np.matrix(cluster).transpose()\n",
    "x2 = np.matrix(age).transpose()\n",
    "x3 = np.matrix(pctmale).transpose()\n",
    "x4 = np.matrix(acc_age).transpose()\n",
    "x = np.column_stack([x1, x2])\n",
    "X = sm.add_constant(x)\n",
    "model = sm.OLS(np.log(y), X)\n",
    "f = model.fit()\n",
    "\n",
    "print 'Coefficients: ', f.params[0:4]\n",
    "print 'Intercept: ', f.params[2]\n",
    "print 'P-Values: ', f.pvalues\n",
    "print 'R-Squared: ', f.rsquared"
   ]
  },
  {
   "cell_type": "code",
   "execution_count": null,
   "metadata": {
    "collapsed": false
   },
   "outputs": [],
   "source": []
  }
 ],
 "metadata": {
  "kernelspec": {
   "display_name": "Python 2",
   "language": "python",
   "name": "python2"
  },
  "language_info": {
   "codemirror_mode": {
    "name": "ipython",
    "version": 2
   },
   "file_extension": ".py",
   "mimetype": "text/x-python",
   "name": "python",
   "nbconvert_exporter": "python",
   "pygments_lexer": "ipython2",
   "version": "2.7.9"
  }
 },
 "nbformat": 4,
 "nbformat_minor": 0
}
